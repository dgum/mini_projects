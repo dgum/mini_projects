{
 "cells": [
  {
   "cell_type": "code",
   "execution_count": 1,
   "metadata": {
    "id": "8i5L145xInXa"
   },
   "outputs": [],
   "source": [
    "import numpy as np\n",
    "import matplotlib.pyplot as plt"
   ]
  },
  {
   "cell_type": "markdown",
   "metadata": {
    "id": "i_Y5_mU5JBcb"
   },
   "source": [
    "We're going to go step by step and implement gradient descent from scratch to fit a linear function to some data.  \n",
    "First, let's create some data that follows a linear trend:"
   ]
  },
  {
   "cell_type": "code",
   "execution_count": 2,
   "metadata": {
    "id": "f_zonKJmI3uN"
   },
   "outputs": [],
   "source": [
    "seed = np.random.seed(seed = 12)\n",
    "xs = np.arange(60)\n",
    "noise = np.random.uniform(-35,35, size=(60,))\n",
    "\n",
    "slope = 2.7 # target variable 1\n",
    "intercept = .8 # target variable 2\n",
    "ys = (slope * xs) + intercept + noise"
   ]
  },
  {
   "cell_type": "code",
   "execution_count": 3,
   "metadata": {
    "colab": {
     "base_uri": "https://localhost:8080/",
     "height": 452
    },
    "id": "zT8UIS8NJKaA",
    "outputId": "b987ce88-5b4a-453a-b202-25a240e2d35d"
   },
   "outputs": [
    {
     "data": {
      "image/png": "[encoded data removed]",
      "text/plain": [
       "<Figure size 432x288 with 1 Axes>"
      ]
     },
     "metadata": {
      "needs_background": "light"
     },
     "output_type": "display_data"
    }
   ],
   "source": [
    "plt.figure()\n",
    "plt.plot(xs, ys, '*')\n",
    "plt.title('Train Data')\n",
    "plt.show()"
   ]
  },
  {
   "cell_type": "markdown",
   "metadata": {
    "id": "1DKOniMHJQnN"
   },
   "source": [
    "Now we'll create the function we want to approximate"
   ]
  },
  {
   "cell_type": "code",
   "execution_count": 4,
   "metadata": {
    "id": "R9VofbF5JMVx"
   },
   "outputs": [],
   "source": [
    "def linear_model(x:np.ndarray, w:float, b:float) -> np.ndarray:\n",
    "    \"\"\"\n",
    "    Takes input data and scales/shifts by weight and bias parameters.\n",
    "    \"\"\"\n",
    "    return w * x + b\n",
    "\n",
    "def loss(preds:np.ndarray, true:np.ndarray) -> float:\n",
    "    \"\"\"\n",
    "    Calculates the MSE loss function\n",
    "    \"\"\"\n",
    "    return np.mean((preds - true)**2)"
   ]
  },
  {
   "cell_type": "code",
   "execution_count": 5,
   "metadata": {
    "id": "qsBSqWYqkSzy"
   },
   "outputs": [],
   "source": [
    "b_rand = 0.1 # random initial guess\n",
    "w_rand = 0.1 # random initial guess\n",
    "model = linear_model(x = xs, w = w_rand, b = b_rand )"
   ]
  },
  {
   "cell_type": "markdown",
   "metadata": {
    "id": "lrT1SzQXmvKq"
   },
   "source": [
    "Now lets calculate the initial model error and do some parameter updates by hand:"
   ]
  },
  {
   "cell_type": "code",
   "execution_count": 6,
   "metadata": {
    "colab": {
     "base_uri": "https://localhost:8080/"
    },
    "id": "yKv45KFYmp6I",
    "outputId": "00f12347-7910-4abb-fff8-53473c0903aa"
   },
   "outputs": [
    {
     "name": "stdout",
     "output_type": "stream",
     "text": [
      "error is: 7927.768803043679\n"
     ]
    }
   ],
   "source": [
    "err = loss(preds = model, true = ys)\n",
    "print(f'error is: {err}')"
   ]
  },
  {
   "cell_type": "markdown",
   "metadata": {
    "id": "FHR_KisJns7l"
   },
   "source": [
    "Now what we want to try and do is estimate w and b such that the loss reaches some sort of minimum. We can do this with the gradient descent algorithm. First, as an example, we calculate the rate of change with respect to parameter w using the finite difference method:  \n",
    "  \n",
    "$$f'(x)=\\lim_{h\\to 0} \\,\\frac{f(x+h) - f(x)}{h}$$"
   ]
  },
  {
   "cell_type": "code",
   "execution_count": 7,
   "metadata": {
    "colab": {
     "base_uri": "https://localhost:8080/"
    },
    "id": "x_NEw6vEm6ZL",
    "outputId": "1a22a891-c3e0-4810-f0e2-c41766c05249"
   },
   "outputs": [
    {
     "name": "stdout",
     "output_type": "stream",
     "text": [
      "Derivative of loss w.r.t param w is: -5800.311330034874\n"
     ]
    }
   ],
   "source": [
    "# first see how the process works with a small step size\n",
    "delta = 0.1\n",
    "\n",
    "loss_change_w = (loss(preds=linear_model(x=xs, w=w_rand+delta, b=b_rand),true=ys) -\n",
    "               loss(preds=model, true=ys)) / delta\n",
    "print(f'Derivative of loss w.r.t param w is: {loss_change_w}')"
   ]
  },
  {
   "cell_type": "markdown",
   "metadata": {
    "id": "CRa-ZlBhuF-v"
   },
   "source": [
    "The way gradient descent works is by stepping our way in the direction of negative slope in Loss with respect to the model weights. We can do this via updates to the weights:  \n",
    "$$w = w - λ * \\frac{dLoss}{dw} $$  \n",
    "  \n",
    "Where $λ$ is a parameter called the learning rate which controls the gradient descent steps."
   ]
  },
  {
   "cell_type": "code",
   "execution_count": 8,
   "metadata": {
    "id": "6fn6p7YlpNjl"
   },
   "outputs": [],
   "source": [
    "def w_updates(w:float, lr:float, dlw:np.ndarray) -> float:\n",
    "    return w - (lr * dlw)\n",
    "\n",
    "w_new = w_updates(w=w_rand, lr=0.001, dlw=loss_change_w)"
   ]
  },
  {
   "cell_type": "code",
   "execution_count": 9,
   "metadata": {
    "colab": {
     "base_uri": "https://localhost:8080/"
    },
    "id": "k4RTrOQIwmm1",
    "outputId": "46161002-43ef-497c-9a94-259a26eaf529"
   },
   "outputs": [
    {
     "name": "stdout",
     "output_type": "stream",
     "text": [
      "New w weights are: 5.9003113300348735\n"
     ]
    }
   ],
   "source": [
    "print(f'New w weights are: {w_new}')"
   ]
  },
  {
   "cell_type": "markdown",
   "metadata": {
    "id": "CKGv7oKbxzXH"
   },
   "source": [
    "Now we can do the same with the b parameter"
   ]
  },
  {
   "cell_type": "code",
   "execution_count": 10,
   "metadata": {
    "colab": {
     "base_uri": "https://localhost:8080/"
    },
    "id": "QNZxRnE0x2iY",
    "outputId": "56ce64d3-ca11-4c16-ab4e-9a7d2fdac299"
   },
   "outputs": [
    {
     "name": "stdout",
     "output_type": "stream",
     "text": [
      "Derivative of loss w.r.t params b is: -150.70442020019982\n"
     ]
    }
   ],
   "source": [
    "loss_change_b = (loss(preds=linear_model(x=xs, w=w_rand, b=b_rand+delta),true=ys) -\n",
    "               loss(preds=model, true=ys)) / delta\n",
    "print(f'Derivative of loss w.r.t params b is: {loss_change_b}')"
   ]
  },
  {
   "cell_type": "code",
   "execution_count": 11,
   "metadata": {
    "colab": {
     "base_uri": "https://localhost:8080/"
    },
    "id": "gqmcZXUbx2mg",
    "outputId": "d9adebb1-84b6-44d4-c16f-29687c34c5fa"
   },
   "outputs": [
    {
     "name": "stdout",
     "output_type": "stream",
     "text": [
      "new b value: 0.25070442020019984\n"
     ]
    }
   ],
   "source": [
    "def b_updates(b:np.ndarray, lr:float, dlb:np.ndarray) -> float:\n",
    "    return b - (lr * dlb)\n",
    "\n",
    "b_new = b_updates(b=b_rand, lr=0.001, dlb=loss_change_b)\n",
    "print(f'new b value: {b_new}')"
   ]
  },
  {
   "cell_type": "code",
   "execution_count": 12,
   "metadata": {
    "colab": {
     "base_uri": "https://localhost:8080/",
     "height": 452
    },
    "id": "N66zU6hDw8PW",
    "outputId": "cc5a9b23-aae2-4bc7-c84e-908dfe8be6b0"
   },
   "outputs": [
    {
     "data": {
      "image/png": "[encoded data removed]",
      "text/plain": [
       "<Figure size 432x288 with 1 Axes>"
      ]
     },
     "metadata": {
      "needs_background": "light"
     },
     "output_type": "display_data"
    }
   ],
   "source": [
    "plt.figure()\n",
    "plt.plot(xs, ys, '*')\n",
    "plt.plot(xs, linear_model(x=xs, w=w_new, b=b_new), 'g^')\n",
    "plt.title('Train Data vs Fitted Model - First Guess')\n",
    "plt.show()"
   ]
  },
  {
   "cell_type": "markdown",
   "metadata": {
    "id": "PZnBbT-9GaXk"
   },
   "source": [
    "What we want to do now is properly compute the individual derivatives of the loss with respect to each parameter, and then use those to update the parameters. This arises from the gradient:  \n",
    "$$\\nabla_{w,b}L = (\\frac{dL}{dw}, \\frac{dL}{db})$$"
   ]
  },
  {
   "cell_type": "markdown",
   "metadata": {
    "id": "C1O0K8wtG7nj"
   },
   "source": [
    "We can do this with the chain rule, where we compute the derivative of the loss with respect to the input (which is the model output y=mx+b), and multiply this by the derivative of the model with respect to the parameter. We can show this by calculating the derivative of the loss with respect to the weight paramter:\n",
    "  \n",
    "$$\\frac{dL}{dw} = (\\frac{dL}{dy}) * (\\frac{dy}{dw}) $$\n"
   ]
  },
  {
   "cell_type": "markdown",
   "metadata": {
    "id": "avJQdolnds0j"
   },
   "source": [
    "Let's calculate the derivatives to work out the final expression:  \n",
    "  \n",
    "$$ \\frac{dL}{dw} = \\frac{-2}{n}\\Sigma (x_i) (y_i - (wx_i + b)) $$\n",
    "\n",
    "$$ \\frac{dL}{db} = \\frac{-2}{n} \\Sigma (y_i - (wx_i +b)) $$\n",
    "\n",
    "Where n is the length of the input data."
   ]
  },
  {
   "cell_type": "code",
   "execution_count": 13,
   "metadata": {
    "id": "jByOzzMkYO2h"
   },
   "outputs": [],
   "source": [
    "# define the functions we'll use in calculating gradient descent\n",
    "\n",
    "def dldw(x:np.ndarray, diff:np.ndarray) -> float:\n",
    "    \"\"\"\n",
    "    Calculates the derivative of loss with respect to parameter w\n",
    "    \"\"\"\n",
    "    return -2 * x.dot(diff) / len(x)\n",
    "\n",
    "def dldb(diff:np.ndarray) -> float:\n",
    "    \"\"\"\n",
    "  Calculates the derivative of loss with respect to b\n",
    "  \"\"\"\n",
    "    return -2 * diff.sum() / len(diff)\n",
    "\n",
    "\n",
    "def train_loop(epochs:int,\n",
    "               w: float,\n",
    "               b:float,\n",
    "               x:np.ndarray,\n",
    "               reals:np.ndarray,\n",
    "               lr:float = 0.001)-> tuple:\n",
    "    \"\"\"\n",
    "  Controls the training loop for linear regression\n",
    "  Args:\n",
    "    epochs - number of updates to make to the weights\n",
    "    w - initial guess for weights\n",
    "    b - intial guess for bias\n",
    "    x - input x axis data\n",
    "    reals - true y valued outputs\n",
    "    lr - learning rate\n",
    "  Out - tuple of loss, epoch, w, b\n",
    "  \"\"\"\n",
    "    loss_per_epoch = []\n",
    "    epochs_list = [i for i in range(epochs)]\n",
    "\n",
    "    for _ in range(epochs):\n",
    "        preds=linear_model(x=x,w=w,b=b)\n",
    "        epoch_loss=loss(preds=preds, true=reals)\n",
    "        loss_per_epoch.append(epoch_loss)\n",
    "\n",
    "        # update the parameters\n",
    "        diff = reals - preds\n",
    "        w -= (lr * dldw(x=x,diff=diff))\n",
    "        b -= (lr * dldb(diff=diff))\n",
    "\n",
    "    return loss_per_epoch, epochs_list, w, b\n"
   ]
  },
  {
   "cell_type": "code",
   "execution_count": 14,
   "metadata": {
    "id": "RjccK1d53LSR"
   },
   "outputs": [],
   "source": [
    "loss_per_epoch, epochs_list, w_est, b_est = train_loop(\n",
    "    epochs = 25,\n",
    "    w=90,\n",
    "    b=-1,\n",
    "    x=xs,\n",
    "    reals=ys,\n",
    "    lr=0.0001)"
   ]
  },
  {
   "cell_type": "code",
   "execution_count": 15,
   "metadata": {
    "colab": {
     "base_uri": "https://localhost:8080/",
     "height": 878
    },
    "id": "4O7TLVJb37HS",
    "outputId": "1795790b-0f8f-4e4f-f70e-dec6c3c8134d"
   },
   "outputs": [
    {
     "data": {
      "image/png": "[encoded data removed]",
      "text/plain": [
       "<Figure size 432x288 with 1 Axes>"
      ]
     },
     "metadata": {
      "needs_background": "light"
     },
     "output_type": "display_data"
    },
    {
     "data": {
      "image/png": "[encoded data removed]",
      "text/plain": [
       "<Figure size 432x288 with 1 Axes>"
      ]
     },
     "metadata": {
      "needs_background": "light"
     },
     "output_type": "display_data"
    }
   ],
   "source": [
    "def compare_results(estim_w:float, estim_b:float, epochs:int, loss:list):\n",
    "    \"\"\"\n",
    "    Plots loss per epoch and compares final function to real func\n",
    "    \"\"\"\n",
    "    plt.figure()\n",
    "    plt.plot(epochs, loss)\n",
    "    plt.xlabel('epochs')\n",
    "    plt.ylabel('MSE')\n",
    "    plt.figure()\n",
    "    plt.plot(xs, ys, '*', label='reals')\n",
    "    plt.plot(xs, linear_model(x=xs, w=estim_w, b=estim_b), 'g^', label='fitted')\n",
    "    plt.legend()\n",
    "    plt.show()\n",
    "\n",
    "compare_results(estim_w=w_est, estim_b=b_est, epochs=epochs_list, loss=loss_per_epoch)"
   ]
  },
  {
   "cell_type": "markdown",
   "metadata": {
    "id": "wnRPv4UJwxrn"
   },
   "source": [
    "----------------\n",
    "Nice! Let's extend this to fit a parabola,\n",
    "$$y = ax^2 + bx + c$$"
   ]
  },
  {
   "cell_type": "code",
   "execution_count": 16,
   "metadata": {
    "id": "FbiMcTBVwW9i"
   },
   "outputs": [],
   "source": [
    "xs = np.arange(-30, 30)\n",
    "noise = np.random.uniform(-80,80, size=(60,))\n",
    "\n",
    "a = 3\n",
    "b = 18\n",
    "c = -5\n",
    "ys = (a * xs**2) + (b * xs) + c + noise"
   ]
  },
  {
   "cell_type": "code",
   "execution_count": 17,
   "metadata": {
    "colab": {
     "base_uri": "https://localhost:8080/",
     "height": 452
    },
    "id": "Q6Wnjb464SEM",
    "outputId": "ae921fce-6811-436a-95e4-f37c8ae5f7b4"
   },
   "outputs": [
    {
     "data": {
      "image/png": "[encoded data removed]",
      "text/plain": [
       "<Figure size 432x288 with 1 Axes>"
      ]
     },
     "metadata": {
      "needs_background": "light"
     },
     "output_type": "display_data"
    }
   ],
   "source": [
    "plt.figure()\n",
    "plt.plot(xs, ys, '*')\n",
    "plt.title('Train Data')\n",
    "plt.show()"
   ]
  },
  {
   "cell_type": "code",
   "execution_count": 18,
   "metadata": {
    "id": "299I0Dx_4VJV"
   },
   "outputs": [],
   "source": [
    "def quadratic_model(x:np.ndarray, a:float, b:float, c:float) -> np.ndarray:\n",
    "    \"\"\"\n",
    "    Takes input data and scales/shifts by a,b,c parameters.\n",
    "    \"\"\"\n",
    "    return a * x**2 + b * x + c\n",
    "\n",
    "def dlda(x: np.ndarray, diff:np.ndarray, length:int)-> float:\n",
    "    return -2 * diff.dot(x**2) / length\n",
    "\n",
    "def dldb(x:np.ndarray, diff:np.ndarray, length:int)-> float:\n",
    "    return -2 * diff.dot(x) / length\n",
    "\n",
    "def dldc(diff:np.ndarray, length:int)-> float:\n",
    "    return -2 * diff.sum() / length\n",
    "\n",
    "def train_quad_loop(epochs: int,\n",
    "                    a:float,\n",
    "                    b:float,\n",
    "                    c:float,\n",
    "                    x:np.ndarray,\n",
    "                    reals:np.ndarray,\n",
    "                    lr:float = 0.001)-> tuple:\n",
    "    \"\"\"\n",
    "  Control loop for training a quadratic model\n",
    "  Args:\n",
    "    epochs - number of update steps\n",
    "    a - initial guess for paramter a\n",
    "    b - initial guess for paramter b\n",
    "    c - initial guess for paramter c\n",
    "    x - input x axis data\n",
    "    reals - true y values\n",
    "    lr - learning rate\n",
    "  Out:\n",
    "    tuple of loss, epoch, a, b, c\n",
    "    \"\"\"\n",
    "    epoch_count = [i for i in range(epochs)]\n",
    "    loss_per_epoch = []\n",
    "    N = len(x)\n",
    "\n",
    "    for e in epoch_count:\n",
    "        preds = quadratic_model(x=x, a=a, b=b, c=c)\n",
    "        epoch_loss = loss(preds=preds, true=reals)\n",
    "        loss_per_epoch.append(epoch_loss)\n",
    "\n",
    "        diff = reals - preds\n",
    "        a -= (lr * dlda(x=x, diff=diff, length=N))\n",
    "        b -= (lr * dldb(x=x, diff=diff, length=N))\n",
    "        c -= (lr * dldc(diff=diff, length=N))\n",
    "\n",
    "    return loss_per_epoch, epoch_count, a, b, c"
   ]
  },
  {
   "cell_type": "code",
   "execution_count": 19,
   "metadata": {
    "id": "0-yjnCuz6SGD"
   },
   "outputs": [],
   "source": [
    "loss_vals, epochs, a, b, c = train_quad_loop(epochs = 800,\n",
    "                a = 2,\n",
    "                b = 1,\n",
    "                c = 0.1,\n",
    "                x = xs,\n",
    "                reals = ys,\n",
    "                lr = 0.000005)"
   ]
  },
  {
   "cell_type": "code",
   "execution_count": 20,
   "metadata": {
    "colab": {
     "base_uri": "https://localhost:8080/",
     "height": 862
    },
    "id": "Ys0xubHc6iP7",
    "outputId": "beef2730-a89c-4726-fa60-959ca857e15e"
   },
   "outputs": [
    {
     "data": {
      "image/png": "[encoded data removed]",
      "text/plain": [
       "<Figure size 432x288 with 1 Axes>"
      ]
     },
     "metadata": {
      "needs_background": "light"
     },
     "output_type": "display_data"
    },
    {
     "data": {
      "image/png": "[encoded data removed]",
      "text/plain": [
       "<Figure size 432x288 with 1 Axes>"
      ]
     },
     "metadata": {
      "needs_background": "light"
     },
     "output_type": "display_data"
    }
   ],
   "source": [
    "plt.figure()\n",
    "plt.plot(epochs, loss_vals)\n",
    "plt.xlabel('epochs')\n",
    "plt.ylabel('MSE')\n",
    "plt.figure()\n",
    "plt.plot(xs, ys, '*')\n",
    "plt.plot(xs, quadratic_model(x=xs, a=a, b=b, c=c), 'g^')\n",
    "plt.show()"
   ]
  },
  {
   "cell_type": "code",
   "execution_count": null,
   "metadata": {
    "id": "lNGEW-AO6snz"
   },
   "outputs": [],
   "source": []
  }
 ],
 "metadata": {
  "colab": {
   "provenance": []
  },
  "kernelspec": {
   "display_name": "Python 3",
   "language": "python",
   "name": "python3"
  },
  "language_info": {
   "codemirror_mode": {
    "name": "ipython",
    "version": 3
   },
   "file_extension": ".py",
   "mimetype": "text/x-python",
   "name": "python",
   "nbconvert_exporter": "python",
   "pygments_lexer": "ipython3",
   "version": "3.6.13"
  }
 },
 "nbformat": 4,
 "nbformat_minor": 4
}
